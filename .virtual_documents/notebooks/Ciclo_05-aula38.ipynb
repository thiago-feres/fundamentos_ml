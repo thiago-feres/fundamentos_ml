





from sklearn import datasets as ds
from matplotlib import pyplot as plt
from sklearn import cluster as ct
from sklearn import metrics as mt
import numpy as np





x, y = ds.make_blobs(
    n_samples=100,
    n_features=2,
    centers=3,
    cluster_std=0.8,
    random_state=0
)
plt.scatter(x[:, 0], x[:, 1], c=y)


clusters = np.arange(2, 11, 1)
ss_list= []

for k in clusters:
 
    # define
    model = ct.KMeans(
        n_clusters=k,
        init='random',
        n_init=10,
        random_state=0
    )
    
    # fit
    labels = model.fit_predict(x)
    
    # performance
    ss = mt.silhouette_score(x, labels)
    ss_list.append(ss)
    print(f'cluester k:', k, ss)


plt.plot(clusters, ss_list, marker='o', linewidth=1)
plt.xlabel('k label')
plt.ylabel('silhouette score avg')





labels



