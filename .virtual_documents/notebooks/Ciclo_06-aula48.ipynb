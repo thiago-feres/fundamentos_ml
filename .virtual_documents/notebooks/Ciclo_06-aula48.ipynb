





from sklearn import datasets as ds
from sklearn import model_selection as ms
from sklearn import ensemble as en
from sklearn import metrics as mt
from matplotlib import pyplot as plt
import numpy as np





x, y = ds.make_classification(
    n_samples=1000,
    n_classes=2, 
    n_features=8,
    n_redundant=3,
    random_state=0
)



x_train, x_test, y_train, y_test = ms.train_test_split(x, y, test_size=0.2, random_state=0)





# definition
model = en.RandomForestClassifier(
    n_estimators=3,
    max_depth=2,
    random_state=0    
)

# fit
model.fit(x_train, y_train)

# performance
yhat_test = model.predict_proba(x_test)[:, 1]


yhat_test





fpr, tpr, th = mt.roc_curve(y_test, yhat_test)


plt.plot(fpr, 1-tpr, color='b')
plt.xlabel('FPR')
plt.ylabel('TPR')


distances = np.sqrt((1-tpr)**2 + fpr**2)


distances


best_th = th[np.argmin(distances)]
print(f'best thresholds', best_th)


yhat_test = (yhat_test >= best_th).astype(int)

acc = mt.accuracy_score(y_test, yhat_test)
print(f'accuracy', acc)


model.feature_importances_






