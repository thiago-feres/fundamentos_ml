


from sklearn import datasets as dt
from sklearn import tree as tr
from matplotlib import pyplot as plt

import cv2





iris = dt.load_iris()
x = iris.data[:, 2:]
y = iris.target





#define 
# max_depth: controle do tamanho maximo de quebras da arvore. ou seja, o tamanho de maximo de crescimento da arvore ou a qtde de recortes do espaco.

# min_samples_leaf: numero minimo de amostras que a folha deve ter, antes de fazer uma nova separacao e gerar nos filhos

model_tree = tr.DecisionTreeClassifier(max_depth=1)

# training
model_tree.fit (x, y)

# predict



tr.export_graphviz(
    model_tree,
    out_file='tree.dot',
    feature_names=iris.feature_names[2:],
    class_names=iris.target_names,
    rounded=True,
    filled=True
)


get_ipython().getoutput("dot -Tpng tree.dot -o tree.png")


img = cv2.imread('tree.png')
plt.figure(figsize=(10, 10))
plt.imshow(img)



