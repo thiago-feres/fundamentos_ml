


from sklearn import datasets as  ds
from matplotlib import pyplot as plt
from sklearn import cluster as ct
from sklearn import metrics as mt
import numpy as np





x, y = ds.make_blobs(
    n_samples=100,
    n_features=2,
    centers=4,
    cluster_std=0.2,
    random_state=0
)
plt.scatter(x[:, 0], x[:, 1])#, c=y)





n_clusters = np.arange(2, 11, 1)
silhouette_list = []

for c in n_clusters:

    # define
    kmeans = ct.KMeans(
        n_clusters=c,
        init='random',
        n_init=10,
        random_state=0
    )
    
    #fit (training)
    labels = kmeans.fit_predict(x)
    
    # performance (test)
    silhouette_avg = mt.silhouette_score(x, labels)
    silhouette_list.append(silhouette_avg)
        
    print(
            "for n_clusters=",
            c,
            "The average silhouette_score is:",
            silhouette_avg,
        )
    


plt.plot(n_clusters, silhouette_list, marker='o')
plt.ylabel('Silhouette score average')
plt.xlabel('Numero de clusters K')


kmeans.labels_


plt.scatter(x[:, 0], x[0:, 1], c=kmeans.labels_)








# define
c=4
kmeans = ct.KMeans(
    n_clusters=c,
    init='random',
    n_init=10,
    random_state=0
)

#fit (training)
labels = kmeans.fit_predict(x)

# performance (test)
silhouette_avg = mt.silhouette_score(x, labels)

plt.scatter(x[:, 0], x[:, 1], c=labels)






