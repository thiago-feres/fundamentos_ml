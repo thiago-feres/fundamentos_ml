





from sklearn import model_selection as ms
from sklearn import datasets as dt
from sklearn import tree as tr
from sklearn import metrics as mt
import numpy as np
from six import StringIO
import cv2
from matplotlib import pyplot as plt





x, y = dt.make_regression(
    n_features=4, 
    random_state=0)



x_train, x_test, y_train, y_test = ms.train_test_split(x, y, test_size=0)





# define
model = tr.DecisionTreeRegressor(random_state=0)

# training
model_fit(x_train, y_train)

# performance
y_pred = model.predict(x_test)


mse = mt.mean_squared_error(y_test, y_pred)
rmse = np.sqrt(mse)


# export
dot_date = StringIO()

tr.export_graphviz(
    model,
    out_file='tree_reg.dot',
    rounded=True,
    filled=True
)




get_ipython().getoutput("dot -Tpng tree_reg.dot -o tree_reg.png")


cv2.imread(
    'tree_reg.png'
)
plt.figure(figsize=(20, 20))
plt.imgshow(img, extent=[-4, 4, -1, 1], aspect=4);



