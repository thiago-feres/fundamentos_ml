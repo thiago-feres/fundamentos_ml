


from sklearn import datasets as dt
from sklearn import tree as tr





iris = dt.load_iris()
x = iris.data[:, 2:]
y = iris.target





#define 
model_tree = tr.DecisionTreeClassifier()

# training
model_tree.fit (x, y)

# predict



tr.export_graphviz(
    model_tree,
    out_file='tree.dot',
    feature_names=iris.feature_names[2:],
    class_names=iris.target_names,
    rounded=True,
    filled=True
)


get_ipython().getoutput("dot -Tpng tree.dot -o tree.p")


ls -l
