


import numpy                           as np
import pandas                          as pd
from sklearn    import datasets        as ds
from sklearn    import model_selection as ms
from sklearn    import tree            as tr
from sklearn    import metrics         as mt
from matplotlib import pyplot          as plt



n_samples=20000
n_features=2
n_informative=2
n_redundant=0
random_state=0

# dataset
x,y = ds.make_classification(
    n_samples=n_samples,
    n_features=n_features,
    n_informative=n_informative,
    n_redundant=n_redundant,
    random_state=random_state
)

# production dataset
x, x_prod, y, y_prod = ms.train_test_split(x, y, test_size=0.2, random_state=random_state)


df = pd.DataFrame(x)
df.head(20)





# define model
model = tr.DecisionTreeClassifier(max_depth=38)
model.fit(x, y)

# classification sobre os dados de treinamento
yhat = model.predict(x)
acc = mt.accuracy_score(y, yhat)

print(f'accuracy over training', acc)





yhat_prod = model.predict(x_prod)
acc_prod = mt.accuracy_score(y_prod, yhat_prod)

print(f'accuracy over production', acc_prod)





# separa os dados em treinamento e test
x_train, x_test, y_train, y_test = ms.train_test_split(x, y, test_size=0.2, random_state=random_state)


# modelo treinado com os dados de treinamento
model = tr.DecisionTreeClassifier(max_depth=38)
model.fit(x_train, y_train)

# classificacao sobre os dados de teste
yhat_test = model.predict(x_test)
acc_test = mt.accuracy_score(y_test, yhat_test)

print(f'accuracy over test:', acc_test)





values = [i for i in range(1, 60)]
test_score = list()
for i in values:
    model = tr.DecisionTreeClassifier(max_depth=i)
    model.fit (x_train, y_train)

    #classificacao sobre o teste
    yhat_test = model.predict(x_test)
    acc_test = mt.accuracy_score(y_test, yhat_test)
    
    test_score.append(acc_test)


plt.plot(values, test_score, '-o', label='test')





# modelo treinado
model_last = tr.DecisionTreeClassifier(max_depth=6)
model_last.fit(np.concatenate((x_train, x_test)), 
               np.concatenate((y_train, y_test)))

# classificacao sobre os dados de producao
yhat_prod = model_last.predict(x_prod)
acc_prod = mt.accuracy_score(y_prod, yhat_prod)

print(f'accuravy over production:', acc_prod)





# separacao entre treino e validacao
x_train, x_val, y_train, y_val = ms.train_test_split(x_train, y_train, test_size=0.2)


# modelo treinado e validado com dataset de treinamento
values = [i for i in range(1, 60)]
train_scores, val_scores= list(), list()

for i in values:
    model = tr.DecisionTreeClassifier(max_depth=i)
    model.fit (x_train, y_train)
    
    #previsao sobre os dados de treinamento
    yhat_train = model.predict(x_train)
    acc_train = mt.accuracy_score(y_train, yhat_train)    
    train_scores.append(acc_train)

    #previsao sobre os dados de test
    yhat_val= model.predict(x_val)
    acc_val= mt.accuracy_score(y_val, yhat_val)

    val_scores.append(acc_val)
    


plt.plot(values, val_score, '-o', label='validacao')


# previsao sobre os dados de validacao
#classificacao sobre a validacao
model = tr.DecisionTreeClassifier(max_depth=7)
model.fit (x_train, y_train)
yhat_val = model.predict(x_val)
acc_val = mt.accuracy_score(y_val, yhat_val)

print(f'accuracy over validation:', acc_val)


# modelo treinado sobre training + validation
model_last = tr.DecisionTreeClassifier(max_depth=7)
model_last.fit(np.concatenate((x_train, x_val)),
               np.concatenate((y_train, y_val)))

#classificacao sobre os dados de teste
yhat_test = model_last.predict(x_test)
acc_test = mt.accuracy_score(y_test, yhat_test)

print(f'accuracy over test:', acc_test)


#classificacao sobre os dados de teste
yhat_prod = model_last.predict(x_prod)
acc_prod = mt.accuracy_score(y_prod, yhat_prod)

print(f'accuracy over production:', acc_prod)


# plot of train and test scores vs tree depth
plt.plot(values, train_scores, '-o', label='Train')
plt.plot(values, val_scores, '-o', label='Validacao')
plt.legend()
plt.show()






