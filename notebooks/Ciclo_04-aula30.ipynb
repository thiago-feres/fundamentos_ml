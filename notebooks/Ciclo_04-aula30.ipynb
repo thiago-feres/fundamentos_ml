{
 "cells": [
  {
   "cell_type": "markdown",
   "id": "f5667cdf-3577-418e-af67-dc6487cf3be9",
   "metadata": {},
   "source": [
    "# 1.0 Treinamento do Joaquim: DS Novato"
   ]
  },
  {
   "cell_type": "code",
   "execution_count": 2,
   "id": "b199b9c8-5a09-4ddd-9ba2-a29b4701ad55",
   "metadata": {},
   "outputs": [],
   "source": [
    "import numpy                           as np\n",
    "import pandas                          as pd\n",
    "from sklearn    import datasets        as ds\n",
    "from sklearn    import model_selection as ms\n",
    "from sklearn    import tree            as tr\n",
    "from sklearn    import metrics         as mt\n",
    "from matplotlib import pyplot          as plt\n"
   ]
  },
  {
   "cell_type": "code",
   "execution_count": 3,
   "id": "ce5874ba-9f54-40a9-96bc-dc2b8a0d366c",
   "metadata": {},
   "outputs": [],
   "source": [
    "n_samples=20000\n",
    "n_features=2\n",
    "n_informative=2\n",
    "n_redundant=0\n",
    "random_state=0\n",
    "\n",
    "# dataset\n",
    "x,y = ds.make_classification(\n",
    "    n_samples=n_samples,\n",
    "    n_features=n_features,\n",
    "    n_informative=n_informative,\n",
    "    n_redundant=n_redundant,\n",
    "    random_state=random_state\n",
    ")\n",
    "\n",
    "# production dataset\n",
    "x, x_prod, y, y_prod = ms.train_test_split(x, y, test_size=0.2, random_state=random_state)"
   ]
  },
  {
   "cell_type": "code",
   "execution_count": 4,
   "id": "d5b37f77-53e4-46cf-ba17-f5a4234a6452",
   "metadata": {},
   "outputs": [
    {
     "data": {
      "text/html": [
       "<div>\n",
       "<style scoped>\n",
       "    .dataframe tbody tr th:only-of-type {\n",
       "        vertical-align: middle;\n",
       "    }\n",
       "\n",
       "    .dataframe tbody tr th {\n",
       "        vertical-align: top;\n",
       "    }\n",
       "\n",
       "    .dataframe thead th {\n",
       "        text-align: right;\n",
       "    }\n",
       "</style>\n",
       "<table border=\"1\" class=\"dataframe\">\n",
       "  <thead>\n",
       "    <tr style=\"text-align: right;\">\n",
       "      <th></th>\n",
       "      <th>0</th>\n",
       "      <th>1</th>\n",
       "    </tr>\n",
       "  </thead>\n",
       "  <tbody>\n",
       "    <tr>\n",
       "      <th>0</th>\n",
       "      <td>1.690898</td>\n",
       "      <td>0.036090</td>\n",
       "    </tr>\n",
       "    <tr>\n",
       "      <th>1</th>\n",
       "      <td>0.607581</td>\n",
       "      <td>0.193608</td>\n",
       "    </tr>\n",
       "    <tr>\n",
       "      <th>2</th>\n",
       "      <td>-0.088978</td>\n",
       "      <td>0.878089</td>\n",
       "    </tr>\n",
       "    <tr>\n",
       "      <th>3</th>\n",
       "      <td>0.387026</td>\n",
       "      <td>-2.189495</td>\n",
       "    </tr>\n",
       "    <tr>\n",
       "      <th>4</th>\n",
       "      <td>-0.942144</td>\n",
       "      <td>2.181458</td>\n",
       "    </tr>\n",
       "    <tr>\n",
       "      <th>5</th>\n",
       "      <td>1.723947</td>\n",
       "      <td>1.719668</td>\n",
       "    </tr>\n",
       "    <tr>\n",
       "      <th>6</th>\n",
       "      <td>0.229765</td>\n",
       "      <td>-2.002196</td>\n",
       "    </tr>\n",
       "    <tr>\n",
       "      <th>7</th>\n",
       "      <td>1.659122</td>\n",
       "      <td>-0.324127</td>\n",
       "    </tr>\n",
       "    <tr>\n",
       "      <th>8</th>\n",
       "      <td>-1.217401</td>\n",
       "      <td>-1.310895</td>\n",
       "    </tr>\n",
       "    <tr>\n",
       "      <th>9</th>\n",
       "      <td>-1.355004</td>\n",
       "      <td>2.222676</td>\n",
       "    </tr>\n",
       "    <tr>\n",
       "      <th>10</th>\n",
       "      <td>-0.762868</td>\n",
       "      <td>0.839887</td>\n",
       "    </tr>\n",
       "    <tr>\n",
       "      <th>11</th>\n",
       "      <td>-1.357378</td>\n",
       "      <td>-1.448568</td>\n",
       "    </tr>\n",
       "    <tr>\n",
       "      <th>12</th>\n",
       "      <td>-0.960172</td>\n",
       "      <td>-1.069860</td>\n",
       "    </tr>\n",
       "    <tr>\n",
       "      <th>13</th>\n",
       "      <td>-1.349142</td>\n",
       "      <td>0.742557</td>\n",
       "    </tr>\n",
       "    <tr>\n",
       "      <th>14</th>\n",
       "      <td>-0.009863</td>\n",
       "      <td>0.110520</td>\n",
       "    </tr>\n",
       "    <tr>\n",
       "      <th>15</th>\n",
       "      <td>-0.746929</td>\n",
       "      <td>0.569763</td>\n",
       "    </tr>\n",
       "    <tr>\n",
       "      <th>16</th>\n",
       "      <td>-0.795440</td>\n",
       "      <td>-0.135781</td>\n",
       "    </tr>\n",
       "    <tr>\n",
       "      <th>17</th>\n",
       "      <td>-0.288429</td>\n",
       "      <td>-3.499994</td>\n",
       "    </tr>\n",
       "    <tr>\n",
       "      <th>18</th>\n",
       "      <td>-1.511176</td>\n",
       "      <td>-1.108444</td>\n",
       "    </tr>\n",
       "    <tr>\n",
       "      <th>19</th>\n",
       "      <td>1.542934</td>\n",
       "      <td>-0.124132</td>\n",
       "    </tr>\n",
       "  </tbody>\n",
       "</table>\n",
       "</div>"
      ],
      "text/plain": [
       "           0         1\n",
       "0   1.690898  0.036090\n",
       "1   0.607581  0.193608\n",
       "2  -0.088978  0.878089\n",
       "3   0.387026 -2.189495\n",
       "4  -0.942144  2.181458\n",
       "5   1.723947  1.719668\n",
       "6   0.229765 -2.002196\n",
       "7   1.659122 -0.324127\n",
       "8  -1.217401 -1.310895\n",
       "9  -1.355004  2.222676\n",
       "10 -0.762868  0.839887\n",
       "11 -1.357378 -1.448568\n",
       "12 -0.960172 -1.069860\n",
       "13 -1.349142  0.742557\n",
       "14 -0.009863  0.110520\n",
       "15 -0.746929  0.569763\n",
       "16 -0.795440 -0.135781\n",
       "17 -0.288429 -3.499994\n",
       "18 -1.511176 -1.108444\n",
       "19  1.542934 -0.124132"
      ]
     },
     "execution_count": 4,
     "metadata": {},
     "output_type": "execute_result"
    }
   ],
   "source": [
    "df = pd.DataFrame(x)\n",
    "df.head(20)"
   ]
  },
  {
   "cell_type": "markdown",
   "id": "17c4a67f-b9ed-4ed5-8224-1694def209f2",
   "metadata": {},
   "source": [
    "# nao ha separacao dos dados"
   ]
  },
  {
   "cell_type": "code",
   "execution_count": 5,
   "id": "5b00fe41-4225-417b-a36f-2a8f5525a21e",
   "metadata": {},
   "outputs": [
    {
     "name": "stdout",
     "output_type": "stream",
     "text": [
      "accuracy over training 1.0\n"
     ]
    }
   ],
   "source": [
    "# define model\n",
    "model = tr.DecisionTreeClassifier(max_depth=38)\n",
    "model.fit(x, y)\n",
    "\n",
    "# classification sobre os dados de treinamento\n",
    "yhat = model.predict(x)\n",
    "acc = mt.accuracy_score(y, yhat)\n",
    "\n",
    "print(f'accuracy over training', acc)"
   ]
  },
  {
   "cell_type": "markdown",
   "id": "2fe37aea-f038-483d-8f51-ed49f1215265",
   "metadata": {},
   "source": [
    "# publicacao no modelo em producao"
   ]
  },
  {
   "cell_type": "code",
   "execution_count": 6,
   "id": "5d2af6c3-71d5-4111-9191-0c3c43a77caf",
   "metadata": {},
   "outputs": [
    {
     "name": "stdout",
     "output_type": "stream",
     "text": [
      "accuracy over production 0.85025\n"
     ]
    }
   ],
   "source": [
    "yhat_prod = model.predict(x_prod)\n",
    "acc_prod = mt.accuracy_score(y_prod, yhat_prod)\n",
    "\n",
    "print(f'accuracy over production', acc_prod)"
   ]
  },
  {
   "cell_type": "markdown",
   "id": "0117c8a1-89ba-4dab-93a3-75d0734f83ee",
   "metadata": {},
   "source": [
    "# estrategia treino-test"
   ]
  },
  {
   "cell_type": "code",
   "execution_count": 7,
   "id": "0ce54ad8-db65-46c9-b82e-9140fbce5957",
   "metadata": {},
   "outputs": [],
   "source": [
    "# separa os dados em treinamento e test\n",
    "x_train, x_test, y_train, y_test = ms.train_test_split(x, y, test_size=0.2, random_state=random_state)"
   ]
  },
  {
   "cell_type": "code",
   "execution_count": 8,
   "id": "7bf32544-9c27-4866-8b70-3790bd5173a8",
   "metadata": {},
   "outputs": [
    {
     "name": "stdout",
     "output_type": "stream",
     "text": [
      "accuracy over test: 0.8525\n"
     ]
    }
   ],
   "source": [
    "# modelo treinado com os dados de treinamento\n",
    "model = tr.DecisionTreeClassifier(max_depth=38)\n",
    "model.fit(x_train, y_train)\n",
    "\n",
    "# classificacao sobre os dados de teste\n",
    "yhat_test = model.predict(x_test)\n",
    "acc_test = mt.accuracy_score(y_test, yhat_test)\n",
    "\n",
    "print(f'accuracy over test:', acc_test)"
   ]
  },
  {
   "cell_type": "markdown",
   "id": "6a3f2dc6-6f05-457a-b1dd-6d93fc926d2a",
   "metadata": {},
   "source": [
    "# escolha os parametros do algoritmo\n"
   ]
  },
  {
   "cell_type": "code",
   "execution_count": 9,
   "id": "754e91a8-3516-4f05-a79a-c5840562cfa5",
   "metadata": {},
   "outputs": [],
   "source": [
    "values = [i for i in range(1, 60)]\n",
    "test_score = list()\n",
    "for i in values:\n",
    "    model = tr.DecisionTreeClassifier(max_depth=i)\n",
    "    model.fit (x_train, y_train)\n",
    "\n",
    "    #classificacao sobre o teste\n",
    "    yhat_test = model.predict(x_test)\n",
    "    acc_test = mt.accuracy_score(y_test, yhat_test)\n",
    "    \n",
    "    test_score.append(acc_test)"
   ]
  },
  {
   "cell_type": "code",
   "execution_count": 10,
   "id": "271bab2f-9815-4b1a-b963-dec96a5df1c8",
   "metadata": {},
   "outputs": [
    {
     "data": {
      "text/plain": [
       "[<matplotlib.lines.Line2D at 0x7c0c99815350>]"
      ]
     },
     "execution_count": 10,
     "metadata": {},
     "output_type": "execute_result"
    },
    {
     "data": {
      "image/png": "[encoded data removed]",
      "text/plain": [
       "<Figure size 640x480 with 1 Axes>"
      ]
     },
     "metadata": {},
     "output_type": "display_data"
    }
   ],
   "source": [
    "plt.plot(values, test_score, '-o', label='test')"
   ]
  },
  {
   "cell_type": "markdown",
   "id": "53d6a0bf-195d-41db-a302-756c11ae71f4",
   "metadata": {},
   "source": [
    "# publicacao do algoritmo em producao"
   ]
  },
  {
   "cell_type": "code",
   "execution_count": 11,
   "id": "ac91372a-44f2-48e7-8d8b-fd8f3dd60f1e",
   "metadata": {},
   "outputs": [
    {
     "name": "stdout",
     "output_type": "stream",
     "text": [
      "accuravy over production: 0.88175\n"
     ]
    }
   ],
   "source": [
    "# modelo treinado\n",
    "model_last = tr.DecisionTreeClassifier(max_depth=6)\n",
    "model_last.fit(np.concatenate((x_train, x_test)), \n",
    "               np.concatenate((y_train, y_test)))\n",
    "\n",
    "# classificacao sobre os dados de producao\n",
    "yhat_prod = model_last.predict(x_prod)\n",
    "acc_prod = mt.accuracy_score(y_prod, yhat_prod)\n",
    "\n",
    "print(f'accuravy over production:', acc_prod)"
   ]
  },
  {
   "cell_type": "markdown",
   "id": "9c9a61c2-d914-4d31-b787-e7ccbc0223f3",
   "metadata": {},
   "source": [
    "# 2.0 estrategia de treino-validacao-test"
   ]
  },
  {
   "cell_type": "code",
   "execution_count": 12,
   "id": "d42627ad-edbb-4c47-84e9-e5ab83aacc77",
   "metadata": {},
   "outputs": [],
   "source": [
    "# separacao entre treino e validacao\n",
    "x_train, x_val, y_train, y_val = ms.train_test_split(x_train, y_train, test_size=0.2)"
   ]
  },
  {
   "cell_type": "code",
   "execution_count": 35,
   "id": "719c8652-04fc-4e17-bc53-e9b9672edb79",
   "metadata": {},
   "outputs": [],
   "source": [
    "# modelo treinado e validado com dataset de treinamento\n",
    "values = [i for i in range(1, 60)]\n",
    "train_scores, val_scores= list(), list()\n",
    "\n",
    "for i in values:\n",
    "    model = tr.DecisionTreeClassifier(max_depth=i)\n",
    "    model.fit (x_train, y_train)\n",
    "    \n",
    "    #previsao sobre os dados de treinamento\n",
    "    yhat_train = model.predict(x_train)\n",
    "    acc_train = mt.accuracy_score(y_train, yhat_train)    \n",
    "    train_scores.append(acc_train)\n",
    "\n",
    "    #previsao sobre os dados de test\n",
    "    yhat_val= model.predict(x_val)\n",
    "    acc_val= mt.accuracy_score(y_val, yhat_val)\n",
    "\n",
    "    val_scores.append(acc_val)\n",
    "    "
   ]
  },
  {
   "cell_type": "code",
   "execution_count": 37,
   "id": "85b5e6ae-60b6-420d-8626-a2408a92eed1",
   "metadata": {},
   "outputs": [
    {
     "data": {
      "text/plain": [
       "[<matplotlib.lines.Line2D at 0x7c0c95009690>]"
      ]
     },
     "execution_count": 37,
     "metadata": {},
     "output_type": "execute_result"
    },
    {
     "data": {
      "image/png": "[encoded data removed]",
      "text/plain": [
       "<Figure size 640x480 with 1 Axes>"
      ]
     },
     "metadata": {},
     "output_type": "display_data"
    }
   ],
   "source": [
    "plt.plot(values, val_score, '-o', label='validacao')"
   ]
  },
  {
   "cell_type": "code",
   "execution_count": 38,
   "id": "50bbafd2-24ca-400f-8a5d-1cd2b70adb09",
   "metadata": {},
   "outputs": [
    {
     "name": "stdout",
     "output_type": "stream",
     "text": [
      "accuracy over validation: 0.8890625\n"
     ]
    }
   ],
   "source": [
    "# previsao sobre os dados de validacao\n",
    "#classificacao sobre a validacao\n",
    "model = tr.DecisionTreeClassifier(max_depth=7)\n",
    "model.fit (x_train, y_train)\n",
    "yhat_val = model.predict(x_val)\n",
    "acc_val = mt.accuracy_score(y_val, yhat_val)\n",
    "\n",
    "print(f'accuracy over validation:', acc_val)"
   ]
  },
  {
   "cell_type": "code",
   "execution_count": 39,
   "id": "f7072d9c-7379-43d6-81cd-2e7d30e95a54",
   "metadata": {},
   "outputs": [
    {
     "name": "stdout",
     "output_type": "stream",
     "text": [
      "accuracy over test: 0.8859375\n"
     ]
    }
   ],
   "source": [
    "# modelo treinado sobre training + validation\n",
    "model_last = tr.DecisionTreeClassifier(max_depth=7)\n",
    "model_last.fit(np.concatenate((x_train, x_val)),\n",
    "               np.concatenate((y_train, y_val)))\n",
    "\n",
    "#classificacao sobre os dados de teste\n",
    "yhat_test = model_last.predict(x_test)\n",
    "acc_test = mt.accuracy_score(y_test, yhat_test)\n",
    "\n",
    "print(f'accuracy over test:', acc_test)"
   ]
  },
  {
   "cell_type": "code",
   "execution_count": 40,
   "id": "2d2608b5-0e56-43a8-8f28-4a32c187e3b4",
   "metadata": {},
   "outputs": [
    {
     "name": "stdout",
     "output_type": "stream",
     "text": [
      "accuracy over production: 0.87725\n"
     ]
    }
   ],
   "source": [
    "#classificacao sobre os dados de teste\n",
    "yhat_prod = model_last.predict(x_prod)\n",
    "acc_prod = mt.accuracy_score(y_prod, yhat_prod)\n",
    "\n",
    "print(f'accuracy over production:', acc_prod)"
   ]
  },
  {
   "cell_type": "code",
   "execution_count": 41,
   "id": "e91c4230-e54e-4190-bb26-be5b9985fe69",
   "metadata": {},
   "outputs": [
    {
     "data": {
      "image/png": "[encoded data removed]",
      "text/plain": [
       "<Figure size 640x480 with 1 Axes>"
      ]
     },
     "metadata": {},
     "output_type": "display_data"
    }
   ],
   "source": [
    "# plot of train and test scores vs tree depth\n",
    "plt.plot(values, train_scores, '-o', label='Train')\n",
    "plt.plot(values, val_scores, '-o', label='Validacao')\n",
    "plt.legend()\n",
    "plt.show()"
   ]
  },
  {
   "cell_type": "code",
   "execution_count": null,
   "id": "a87d6054-4974-4e11-a6a6-649a3e013a94",
   "metadata": {},
   "outputs": [],
   "source": []
  },
  {
   "cell_type": "code",
   "execution_count": null,
   "id": "339e1070-9b66-48f2-beaf-6b244c99794b",
   "metadata": {},
   "outputs": [],
   "source": []
  }
 ],
 "metadata": {
  "kernelspec": {
   "display_name": "Python 3 (ipykernel)",
   "language": "python",
   "name": "python3"
  },
  "language_info": {
   "codemirror_mode": {
    "name": "ipython",
    "version": 3
   },
   "file_extension": ".py",
   "mimetype": "text/x-python",
   "name": "python",
   "nbconvert_exporter": "python",
   "pygments_lexer": "ipython3",
   "version": "3.11.10"
  }
 },
 "nbformat": 4,
 "nbformat_minor": 5
}
