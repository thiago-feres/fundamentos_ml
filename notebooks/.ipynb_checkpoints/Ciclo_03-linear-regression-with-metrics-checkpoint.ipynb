{
 "cells": [
  {
   "cell_type": "markdown",
   "id": "9a7ff770-47b8-4a0f-9824-3e91737f867a",
   "metadata": {},
   "source": [
    "# Ciclo 03: Linear regression"
   ]
  },
  {
   "cell_type": "markdown",
   "id": "3d59cfef-69a2-417d-9512-0041d60839a5",
   "metadata": {},
   "source": [
    "## 1.0 Import libraries"
   ]
  },
  {
   "cell_type": "code",
   "execution_count": 56,
   "id": "8ce810cb-4699-4c55-802d-2fbdece8d320",
   "metadata": {},
   "outputs": [],
   "source": [
    "import pandas as pd\n",
    "from sklearn.neighbors import KNeighborsClassifier\n",
    "from sklearn.linear_model import LinearRegression\n",
    "from sklearn import metrics as mt"
   ]
  },
  {
   "cell_type": "markdown",
   "id": "19a1a626-62e2-40d7-aa6f-5cc792ee6f61",
   "metadata": {},
   "source": [
    "## 1.1 Load dataset"
   ]
  },
  {
   "cell_type": "code",
   "execution_count": 49,
   "id": "fb6abf67-97d2-40b5-a9ec-94459e2a9254",
   "metadata": {},
   "outputs": [],
   "source": [
    "df_raw = pd.read_csv('../dataset/train.csv')\n",
    "df = df_raw.copy()"
   ]
  },
  {
   "cell_type": "code",
   "execution_count": 50,
   "id": "d13b68b2-fe41-4e1b-bdcb-eb9986eb2ab5",
   "metadata": {},
   "outputs": [
    {
     "data": {
      "text/html": [
       "<div>\n",
       "<style scoped>\n",
       "    .dataframe tbody tr th:only-of-type {\n",
       "        vertical-align: middle;\n",
       "    }\n",
       "\n",
       "    .dataframe tbody tr th {\n",
       "        vertical-align: top;\n",
       "    }\n",
       "\n",
       "    .dataframe thead th {\n",
       "        text-align: right;\n",
       "    }\n",
       "</style>\n",
       "<table border=\"1\" class=\"dataframe\">\n",
       "  <thead>\n",
       "    <tr style=\"text-align: right;\">\n",
       "      <th></th>\n",
       "      <th>id_cliente</th>\n",
       "      <th>idade</th>\n",
       "      <th>saldo_atual</th>\n",
       "      <th>divida_atual</th>\n",
       "      <th>renda_anual</th>\n",
       "      <th>valor_em_investimentos</th>\n",
       "      <th>taxa_utilizacao_credito</th>\n",
       "      <th>num_emprestimos</th>\n",
       "      <th>num_contas_bancarias</th>\n",
       "      <th>num_cartoes_credito</th>\n",
       "      <th>dias_atraso_dt_venc</th>\n",
       "      <th>num_pgtos_atrasados</th>\n",
       "      <th>num_consultas_credito</th>\n",
       "      <th>taxa_juros</th>\n",
       "      <th>investe_exterior</th>\n",
       "      <th>pessoa_polit_exp</th>\n",
       "      <th>limite_adicional</th>\n",
       "    </tr>\n",
       "  </thead>\n",
       "  <tbody>\n",
       "    <tr>\n",
       "      <th>0</th>\n",
       "      <td>1767</td>\n",
       "      <td>21</td>\n",
       "      <td>278.172008</td>\n",
       "      <td>2577.05</td>\n",
       "      <td>24196.89636</td>\n",
       "      <td>104.306544</td>\n",
       "      <td>31.038763</td>\n",
       "      <td>6</td>\n",
       "      <td>5</td>\n",
       "      <td>7</td>\n",
       "      <td>21</td>\n",
       "      <td>14</td>\n",
       "      <td>9</td>\n",
       "      <td>15</td>\n",
       "      <td>Não</td>\n",
       "      <td>Não</td>\n",
       "      <td>Negar</td>\n",
       "    </tr>\n",
       "    <tr>\n",
       "      <th>1</th>\n",
       "      <td>11920</td>\n",
       "      <td>40</td>\n",
       "      <td>268.874152</td>\n",
       "      <td>2465.39</td>\n",
       "      <td>19227.37796</td>\n",
       "      <td>69.858778</td>\n",
       "      <td>36.917093</td>\n",
       "      <td>5</td>\n",
       "      <td>8</td>\n",
       "      <td>5</td>\n",
       "      <td>40</td>\n",
       "      <td>23</td>\n",
       "      <td>10</td>\n",
       "      <td>18</td>\n",
       "      <td>Não</td>\n",
       "      <td>Não</td>\n",
       "      <td>Negar</td>\n",
       "    </tr>\n",
       "    <tr>\n",
       "      <th>2</th>\n",
       "      <td>8910</td>\n",
       "      <td>36</td>\n",
       "      <td>446.643127</td>\n",
       "      <td>1055.29</td>\n",
       "      <td>42822.28223</td>\n",
       "      <td>134.201478</td>\n",
       "      <td>34.561714</td>\n",
       "      <td>0</td>\n",
       "      <td>3</td>\n",
       "      <td>6</td>\n",
       "      <td>26</td>\n",
       "      <td>13</td>\n",
       "      <td>3</td>\n",
       "      <td>15</td>\n",
       "      <td>Sim</td>\n",
       "      <td>Não</td>\n",
       "      <td>Negar</td>\n",
       "    </tr>\n",
       "    <tr>\n",
       "      <th>3</th>\n",
       "      <td>4964</td>\n",
       "      <td>58</td>\n",
       "      <td>321.141267</td>\n",
       "      <td>703.05</td>\n",
       "      <td>51786.82600</td>\n",
       "      <td>297.350067</td>\n",
       "      <td>31.493561</td>\n",
       "      <td>0</td>\n",
       "      <td>3</td>\n",
       "      <td>7</td>\n",
       "      <td>12</td>\n",
       "      <td>7</td>\n",
       "      <td>2</td>\n",
       "      <td>1</td>\n",
       "      <td>Sim</td>\n",
       "      <td>Não</td>\n",
       "      <td>Negar</td>\n",
       "    </tr>\n",
       "    <tr>\n",
       "      <th>4</th>\n",
       "      <td>10100</td>\n",
       "      <td>35</td>\n",
       "      <td>428.716114</td>\n",
       "      <td>891.29</td>\n",
       "      <td>44626.85346</td>\n",
       "      <td>134.201478</td>\n",
       "      <td>28.028887</td>\n",
       "      <td>2</td>\n",
       "      <td>8</td>\n",
       "      <td>7</td>\n",
       "      <td>24</td>\n",
       "      <td>10</td>\n",
       "      <td>8</td>\n",
       "      <td>20</td>\n",
       "      <td>Sim</td>\n",
       "      <td>Não</td>\n",
       "      <td>Negar</td>\n",
       "    </tr>\n",
       "  </tbody>\n",
       "</table>\n",
       "</div>"
      ],
      "text/plain": [
       "   id_cliente  idade  saldo_atual  divida_atual  renda_anual  \\\n",
       "0        1767     21   278.172008       2577.05  24196.89636   \n",
       "1       11920     40   268.874152       2465.39  19227.37796   \n",
       "2        8910     36   446.643127       1055.29  42822.28223   \n",
       "3        4964     58   321.141267        703.05  51786.82600   \n",
       "4       10100     35   428.716114        891.29  44626.85346   \n",
       "\n",
       "   valor_em_investimentos  taxa_utilizacao_credito  num_emprestimos  \\\n",
       "0              104.306544                31.038763                6   \n",
       "1               69.858778                36.917093                5   \n",
       "2              134.201478                34.561714                0   \n",
       "3              297.350067                31.493561                0   \n",
       "4              134.201478                28.028887                2   \n",
       "\n",
       "   num_contas_bancarias  num_cartoes_credito  dias_atraso_dt_venc  \\\n",
       "0                     5                    7                   21   \n",
       "1                     8                    5                   40   \n",
       "2                     3                    6                   26   \n",
       "3                     3                    7                   12   \n",
       "4                     8                    7                   24   \n",
       "\n",
       "   num_pgtos_atrasados  num_consultas_credito  taxa_juros investe_exterior  \\\n",
       "0                   14                      9          15              Não   \n",
       "1                   23                     10          18              Não   \n",
       "2                   13                      3          15              Sim   \n",
       "3                    7                      2           1              Sim   \n",
       "4                   10                      8          20              Sim   \n",
       "\n",
       "  pessoa_polit_exp limite_adicional  \n",
       "0              Não            Negar  \n",
       "1              Não            Negar  \n",
       "2              Não            Negar  \n",
       "3              Não            Negar  \n",
       "4              Não            Negar  "
      ]
     },
     "execution_count": 50,
     "metadata": {},
     "output_type": "execute_result"
    }
   ],
   "source": [
    "df.head()"
   ]
  },
  {
   "cell_type": "code",
   "execution_count": 51,
   "id": "cdcad1ef-220d-4528-9077-2a28db98570c",
   "metadata": {},
   "outputs": [
    {
     "data": {
      "text/plain": [
       "Index(['id_cliente', 'idade', 'saldo_atual', 'divida_atual', 'renda_anual',\n",
       "       'valor_em_investimentos', 'taxa_utilizacao_credito', 'num_emprestimos',\n",
       "       'num_contas_bancarias', 'num_cartoes_credito', 'dias_atraso_dt_venc',\n",
       "       'num_pgtos_atrasados', 'num_consultas_credito', 'taxa_juros',\n",
       "       'investe_exterior', 'pessoa_polit_exp', 'limite_adicional'],\n",
       "      dtype='object')"
      ]
     },
     "execution_count": 51,
     "metadata": {},
     "output_type": "execute_result"
    }
   ],
   "source": [
    "df.columns"
   ]
  },
  {
   "cell_type": "markdown",
   "id": "3a5a7b8e-7e15-432e-b883-8681efacbec6",
   "metadata": {},
   "source": [
    "# 2.0 Data preparation"
   ]
  },
  {
   "cell_type": "code",
   "execution_count": 52,
   "id": "4e21edfe-c43e-4d56-9bb4-971f96e8ee25",
   "metadata": {},
   "outputs": [],
   "source": [
    "x_train = df.loc[:, ['idade', 'divida_atual', 'renda_anual',\n",
    "       'valor_em_investimentos', 'taxa_utilizacao_credito', 'num_emprestimos',\n",
    "       'num_contas_bancarias', 'num_cartoes_credito', 'dias_atraso_dt_venc',\n",
    "       'num_pgtos_atrasados', 'num_consultas_credito', 'taxa_juros']]\n",
    "\n",
    "y_train = df.loc[:, ['saldo_atual']]"
   ]
  },
  {
   "cell_type": "markdown",
   "id": "b6506771-4586-4a5b-9062-bcd9cf003368",
   "metadata": {},
   "source": [
    "# 3.0 Model Training"
   ]
  },
  {
   "cell_type": "code",
   "execution_count": 53,
   "id": "60132184-b245-442d-b33f-858541efaa80",
   "metadata": {
    "scrolled": true
   },
   "outputs": [],
   "source": [
    "# model definition\n",
    "lr_model = LinearRegression()\n",
    "# model fit (ajuste, treinamento)\n",
    "lr_model.fit(x_train, y_train)\n",
    "# previsao\n",
    "y_pred = lr_model.predict(x_train)"
   ]
  },
  {
   "cell_type": "code",
   "execution_count": 54,
   "id": "523309a4-fffc-4de9-bde4-dc421ef24353",
   "metadata": {},
   "outputs": [
    {
     "data": {
      "text/html": [
       "<div>\n",
       "<style scoped>\n",
       "    .dataframe tbody tr th:only-of-type {\n",
       "        vertical-align: middle;\n",
       "    }\n",
       "\n",
       "    .dataframe tbody tr th {\n",
       "        vertical-align: top;\n",
       "    }\n",
       "\n",
       "    .dataframe thead th {\n",
       "        text-align: right;\n",
       "    }\n",
       "</style>\n",
       "<table border=\"1\" class=\"dataframe\">\n",
       "  <thead>\n",
       "    <tr style=\"text-align: right;\">\n",
       "      <th></th>\n",
       "      <th>id_cliente</th>\n",
       "      <th>saldo_atual</th>\n",
       "      <th>predicted</th>\n",
       "    </tr>\n",
       "  </thead>\n",
       "  <tbody>\n",
       "    <tr>\n",
       "      <th>0</th>\n",
       "      <td>1767</td>\n",
       "      <td>278.172008</td>\n",
       "      <td>346.669549</td>\n",
       "    </tr>\n",
       "    <tr>\n",
       "      <th>1</th>\n",
       "      <td>11920</td>\n",
       "      <td>268.874152</td>\n",
       "      <td>367.840277</td>\n",
       "    </tr>\n",
       "    <tr>\n",
       "      <th>2</th>\n",
       "      <td>8910</td>\n",
       "      <td>446.643127</td>\n",
       "      <td>431.468979</td>\n",
       "    </tr>\n",
       "    <tr>\n",
       "      <th>3</th>\n",
       "      <td>4964</td>\n",
       "      <td>321.141267</td>\n",
       "      <td>445.506463</td>\n",
       "    </tr>\n",
       "    <tr>\n",
       "      <th>4</th>\n",
       "      <td>10100</td>\n",
       "      <td>428.716114</td>\n",
       "      <td>378.271169</td>\n",
       "    </tr>\n",
       "  </tbody>\n",
       "</table>\n",
       "</div>"
      ],
      "text/plain": [
       "   id_cliente  saldo_atual   predicted\n",
       "0        1767   278.172008  346.669549\n",
       "1       11920   268.874152  367.840277\n",
       "2        8910   446.643127  431.468979\n",
       "3        4964   321.141267  445.506463\n",
       "4       10100   428.716114  378.271169"
      ]
     },
     "execution_count": 54,
     "metadata": {},
     "output_type": "execute_result"
    }
   ],
   "source": [
    "df1 = df.loc[:, ['id_cliente', 'saldo_atual']]\n",
    "df1['predicted'] = y_pred\n",
    "\n",
    "df1.head()"
   ]
  },
  {
   "cell_type": "markdown",
   "id": "edfa67d2-30a4-46ca-be85-acadddc89858",
   "metadata": {},
   "source": [
    "# 4.0 Performance"
   ]
  },
  {
   "cell_type": "code",
   "execution_count": 57,
   "id": "0f5406ef-f1a8-431a-a9ae-fd89c447bf33",
   "metadata": {},
   "outputs": [
    {
     "data": {
      "text/plain": [
       "0.16917364489050024"
      ]
     },
     "execution_count": 57,
     "metadata": {},
     "output_type": "execute_result"
    }
   ],
   "source": [
    "mt.r2_score(y_train, y_pred)"
   ]
  }
 ],
 "metadata": {
  "kernelspec": {
   "display_name": "Python 3 (ipykernel)",
   "language": "python",
   "name": "python3"
  },
  "language_info": {
   "codemirror_mode": {
    "name": "ipython",
    "version": 3
   },
   "file_extension": ".py",
   "mimetype": "text/x-python",
   "name": "python",
   "nbconvert_exporter": "python",
   "pygments_lexer": "ipython3",
   "version": "3.11.10"
  }
 },
 "nbformat": 4,
 "nbformat_minor": 5
}
