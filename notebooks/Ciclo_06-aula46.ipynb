{
 "cells": [
  {
   "cell_type": "markdown",
   "id": "cf58c3a0-b72f-422e-ba55-3f452f4de9f6",
   "metadata": {},
   "source": [
    "# Decision Tree Regression"
   ]
  },
  {
   "cell_type": "markdown",
   "id": "65aa6926-469f-4ffd-9f7e-a8866b78cb99",
   "metadata": {},
   "source": [
    "# imports"
   ]
  },
  {
   "cell_type": "code",
   "execution_count": 28,
   "id": "e8dc94dc-a33b-4f76-84d2-ff6489da136a",
   "metadata": {},
   "outputs": [],
   "source": [
    "from sklearn import model_selection as ms\n",
    "from sklearn import datasets as dt\n",
    "from sklearn import tree as tr\n",
    "from sklearn import metrics as mt\n",
    "import numpy as np\n",
    "from six import StringIO\n",
    "import cv2\n",
    "from matplotlib import pyplot as plt"
   ]
  },
  {
   "cell_type": "markdown",
   "id": "c1a25f85-4445-4d1a-8184-1ec92c1286c7",
   "metadata": {},
   "source": [
    "# load datasets"
   ]
  },
  {
   "cell_type": "code",
   "execution_count": null,
   "id": "3b6641c5-ceb1-44ab-b2a1-008dc9d84e7e",
   "metadata": {},
   "outputs": [],
   "source": [
    "x, y = dt.make_regression(\n",
    "    n_features=4, \n",
    "    random_state=0)\n"
   ]
  },
  {
   "cell_type": "code",
   "execution_count": null,
   "id": "6c77933f-8a13-491a-8483-0c4a98380264",
   "metadata": {},
   "outputs": [],
   "source": [
    "x_train, x_test, y_train, y_test = ms.train_test_split(x, y, test_size=0)"
   ]
  },
  {
   "cell_type": "markdown",
   "id": "7b47f84c-d3f7-4408-8b03-b9b41ce3f108",
   "metadata": {},
   "source": [
    "# train decision tree regressor"
   ]
  },
  {
   "cell_type": "code",
   "execution_count": null,
   "id": "9d7c3f46-8a8c-4d57-8857-6902e2861f65",
   "metadata": {},
   "outputs": [],
   "source": [
    "# define\n",
    "model = tr.DecisionTreeRegressor(random_state=0)\n",
    "\n",
    "# training\n",
    "model_fit(x_train, y_train)\n",
    "\n",
    "# performance\n",
    "y_pred = model.predict(x_test)"
   ]
  },
  {
   "cell_type": "code",
   "execution_count": null,
   "id": "7cefae6f-82b6-4251-a8c6-79ee8bbb20cb",
   "metadata": {},
   "outputs": [],
   "source": [
    "mse = mt.mean_squared_error(y_test, y_pred)\n",
    "rmse = np.sqrt(mse)"
   ]
  },
  {
   "cell_type": "code",
   "execution_count": null,
   "id": "c142810c-c086-4c2f-b122-0cb0a0bd4a56",
   "metadata": {},
   "outputs": [],
   "source": [
    "# export\n",
    "dot_date = StringIO()\n",
    "\n",
    "tr.export_graphviz(\n",
    "    model,\n",
    "    out_file='tree_reg.dot',\n",
    "    rounded=True,\n",
    "    filled=True\n",
    ")\n",
    "\n"
   ]
  },
  {
   "cell_type": "code",
   "execution_count": null,
   "id": "69d88e5e-54b2-4755-bd59-c747aa12ed34",
   "metadata": {},
   "outputs": [],
   "source": [
    "!dot -Tpng tree_reg.dot -o tree_reg.png"
   ]
  },
  {
   "cell_type": "code",
   "execution_count": null,
   "id": "dc677d58-645d-44a6-87d4-046a0d5d1f25",
   "metadata": {},
   "outputs": [],
   "source": [
    "cv2.imread(\n",
    "    'tree_reg.png'\n",
    ")\n",
    "plt.figure(figsize=(20, 20))\n",
    "plt.imgshow(img, extent=[-4, 4, -1, 1], aspect=4);"
   ]
  },
  {
   "cell_type": "code",
   "execution_count": null,
   "id": "5392529b-c8c3-4169-922f-1a8b8b0a3d56",
   "metadata": {},
   "outputs": [],
   "source": []
  }
 ],
 "metadata": {
  "kernelspec": {
   "display_name": "Python 3 (ipykernel)",
   "language": "python",
   "name": "python3"
  },
  "language_info": {
   "codemirror_mode": {
    "name": "ipython",
    "version": 3
   },
   "file_extension": ".py",
   "mimetype": "text/x-python",
   "name": "python",
   "nbconvert_exporter": "python",
   "pygments_lexer": "ipython3",
   "version": "3.11.10"
  }
 },
 "nbformat": 4,
 "nbformat_minor": 5
}
