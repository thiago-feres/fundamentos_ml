





import pandas as pd
from sklearn.neighbors import KNeighborsClassifier
from sklearn.linear_model import LinearRegression





df_raw = pd.read_csv('../dataset/train.csv')
df = df_raw.copy()


df.head()


df.columns





x_train = df.loc[:, ['idade', 'divida_atual', 'renda_anual',
       'valor_em_investimentos', 'taxa_utilizacao_credito', 'num_emprestimos',
       'num_contas_bancarias', 'num_cartoes_credito', 'dias_atraso_dt_venc',
       'num_pgtos_atrasados', 'num_consultas_credito', 'taxa_juros']]

y_train = df.loc[:, ['saldo_atual']]





# model definition
lr_model = LinearRegression()
# model fit (ajuste, treinamento)
lr_model.fit(x_train, y_train)
# previsao
y_pred = lr_model.predict(x_train)


df1 = df.loc[:, ['id_cliente', 'saldo_atual']]
df1['predicted'] = y_pred

df1.head()









