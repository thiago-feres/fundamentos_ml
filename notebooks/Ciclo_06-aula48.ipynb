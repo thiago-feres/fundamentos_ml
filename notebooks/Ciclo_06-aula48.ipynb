{
 "cells": [
  {
   "cell_type": "markdown",
   "id": "97153a8e-1ad6-4e34-9daa-e735ad1d34ba",
   "metadata": {},
   "source": [
    "# Random forest"
   ]
  },
  {
   "cell_type": "markdown",
   "id": "b44c4924-8389-4106-8515-bede807ad0f0",
   "metadata": {},
   "source": [
    "# imports"
   ]
  },
  {
   "cell_type": "code",
   "execution_count": 70,
   "id": "e1b852a5-a022-4725-b240-6cf8532f0d4b",
   "metadata": {},
   "outputs": [],
   "source": [
    "from sklearn import datasets as ds\n",
    "from sklearn import model_selection as ms\n",
    "from sklearn import ensemble as en\n",
    "from sklearn import metrics as mt\n",
    "from matplotlib import pyplot as plt\n",
    "import numpy as np"
   ]
  },
  {
   "cell_type": "markdown",
   "id": "1b8778e0-18c6-44e3-9a7d-fcb809b6999f",
   "metadata": {},
   "source": [
    "# load data"
   ]
  },
  {
   "cell_type": "code",
   "execution_count": 77,
   "id": "598d40af-cf5d-42a6-b79d-f6ab96853220",
   "metadata": {},
   "outputs": [],
   "source": [
    "x, y = ds.make_classification(\n",
    "    n_samples=1000,\n",
    "    n_classes=2, \n",
    "    n_features=8,\n",
    "    n_redundant=3,\n",
    "    random_state=0\n",
    ")\n"
   ]
  },
  {
   "cell_type": "code",
   "execution_count": 78,
   "id": "27a88a10-c1f8-4253-8de3-99be6a89b516",
   "metadata": {},
   "outputs": [],
   "source": [
    "x_train, x_test, y_train, y_test = ms.train_test_split(x, y, test_size=0.2, random_state=0)"
   ]
  },
  {
   "cell_type": "markdown",
   "id": "2a2be0f3-3539-4d7a-914f-5282c03933d1",
   "metadata": {},
   "source": [
    "# model training"
   ]
  },
  {
   "cell_type": "code",
   "execution_count": 79,
   "id": "52ddee50-fa77-4fea-8610-8a262c1cd463",
   "metadata": {},
   "outputs": [],
   "source": [
    "# definition\n",
    "model = en.RandomForestClassifier(\n",
    "    n_estimators=3,\n",
    "    max_depth=2,\n",
    "    random_state=0    \n",
    ")\n",
    "\n",
    "# fit\n",
    "model.fit(x_train, y_train)\n",
    "\n",
    "# performance\n",
    "yhat_test = model.predict_proba(x_test)[:, 1]"
   ]
  },
  {
   "cell_type": "code",
   "execution_count": 80,
   "id": "b561b8bf-42a7-4672-a3fa-cf43a7babd50",
   "metadata": {},
   "outputs": [
    {
     "data": {
      "text/plain": [
       "array([0.16531987, 0.53758997, 0.53758997, 0.53758997, 0.53758997,\n",
       "       0.57411982, 0.57411982, 0.40833499, 0.52881691, 0.70513847,\n",
       "       0.37230954, 0.53758997, 0.52881691, 0.57411982, 0.53758997,\n",
       "       0.57411982, 0.57411982, 0.37230954, 0.57411982, 0.74166832,\n",
       "       0.57411982, 0.57411982, 0.37230954, 0.32700663, 0.57411982,\n",
       "       0.32700663, 0.49228707, 0.49228707, 0.57411982, 0.38539755,\n",
       "       0.57411982, 0.34009464, 0.16531987, 0.57411982, 0.53758997,\n",
       "       0.53758997, 0.52881691, 0.57049715, 0.37230954, 0.52881691,\n",
       "       0.52881691, 0.57411982, 0.53758997, 0.57411982, 0.57411982,\n",
       "       0.57411982, 0.32700663, 0.57411982, 0.57411982, 0.37230954,\n",
       "       0.53758997, 0.32700663, 0.53758997, 0.57411982, 0.57411982,\n",
       "       0.57411982, 0.52881691, 0.74166832, 0.57411982, 0.57411982,\n",
       "       0.32700663, 0.52881691, 0.49228707, 0.57411982, 0.57411982,\n",
       "       0.53758997, 0.57411982, 0.70513847, 0.53758997, 0.53758997,\n",
       "       0.52881691, 0.57411982, 0.40833499, 0.57411982, 0.53758997,\n",
       "       0.21062277, 0.16531987, 0.52881691, 0.53758997, 0.57411982,\n",
       "       0.37230954, 0.57411982, 0.21062277, 0.37230954, 0.37230954,\n",
       "       0.53758997, 0.53758997, 0.53758997, 0.37230954, 0.49228707,\n",
       "       0.57411982, 0.53758997, 0.57411982, 0.53758997, 0.37230954,\n",
       "       0.37230954, 0.57411982, 0.21062277, 0.37230954, 0.57411982,\n",
       "       0.57411982, 0.57411982, 0.52881691, 0.52881691, 0.57411982,\n",
       "       0.57411982, 0.74166832, 0.57411982, 0.53758997, 0.53758997,\n",
       "       0.57411982, 0.57411982, 0.53758997, 0.37230954, 0.57411982,\n",
       "       0.52881691, 0.57411982, 0.57411982, 0.57411982, 0.52881691,\n",
       "       0.37230954, 0.70513847, 0.57411982, 0.37230954, 0.57411982,\n",
       "       0.53758997, 0.53758997, 0.37230954, 0.49228707, 0.57411982,\n",
       "       0.37230954, 0.37230954, 0.49228707, 0.52881691, 0.21062277,\n",
       "       0.57411982, 0.53758997, 0.37180514, 0.49228707, 0.53758997,\n",
       "       0.37230954, 0.57411982, 0.21062277, 0.37230954, 0.37230954,\n",
       "       0.37230954, 0.57411982, 0.53758997, 0.37230954, 0.90383048,\n",
       "       0.57411982, 0.53758997, 0.53758997, 0.53758997, 0.37230954,\n",
       "       0.52881691, 0.21062277, 0.57411982, 0.49228707, 0.32700663,\n",
       "       0.49228707, 0.57411982, 0.57411982, 0.37230954, 0.37180514,\n",
       "       0.52881691, 0.53758997, 0.53758997, 0.37230954, 0.53758997,\n",
       "       0.57411982, 0.57411982, 0.57411982, 0.53758997, 0.53758997,\n",
       "       0.57411982, 0.37230954, 0.21062277, 0.53758997, 0.21062277,\n",
       "       0.49228707, 0.57411982, 0.53758997, 0.52881691, 0.53758997,\n",
       "       0.53758997, 0.21062277, 0.57411982, 0.57411982, 0.57411982,\n",
       "       0.57411982, 0.57411982, 0.37230954, 0.57411982, 0.52881691,\n",
       "       0.90383048, 0.21062277, 0.57411982, 0.57411982, 0.21062277])"
      ]
     },
     "execution_count": 80,
     "metadata": {},
     "output_type": "execute_result"
    }
   ],
   "source": [
    "yhat_test"
   ]
  },
  {
   "cell_type": "markdown",
   "id": "bfebeb36-9c11-4b82-be98-d55c8ce6cd4b",
   "metadata": {},
   "source": [
    "# ROC curve"
   ]
  },
  {
   "cell_type": "code",
   "execution_count": 81,
   "id": "dbc2d19b-0002-4095-9552-7b42161847f7",
   "metadata": {},
   "outputs": [],
   "source": [
    "fpr, tpr, th = mt.roc_curve(y_test, yhat_test)"
   ]
  },
  {
   "cell_type": "code",
   "execution_count": 82,
   "id": "16970b32-7a20-4692-b73b-af915fe6a57a",
   "metadata": {},
   "outputs": [
    {
     "data": {
      "text/plain": [
       "Text(0, 0.5, 'TPR')"
      ]
     },
     "execution_count": 82,
     "metadata": {},
     "output_type": "execute_result"
    },
    {
     "data": {
      "image/png": "[encoded data removed]",
      "text/plain": [
       "<Figure size 640x480 with 1 Axes>"
      ]
     },
     "metadata": {},
     "output_type": "display_data"
    }
   ],
   "source": [
    "plt.plot(fpr, 1-tpr, color='b')\n",
    "plt.xlabel('FPR')\n",
    "plt.ylabel('TPR')"
   ]
  },
  {
   "cell_type": "code",
   "execution_count": 83,
   "id": "4d92dbdd-ebc2-4ba7-9f69-81b0cbca3b99",
   "metadata": {},
   "outputs": [],
   "source": [
    "distances = np.sqrt((1-tpr)**2 + fpr**2)"
   ]
  },
  {
   "cell_type": "code",
   "execution_count": 84,
   "id": "bb4daac8-b3b3-4310-ae71-7dd2ba04587e",
   "metadata": {},
   "outputs": [
    {
     "data": {
      "text/plain": [
       "array([1.        , 0.98058252, 0.9223301 , 0.51385223, 0.51828005,\n",
       "       0.47849994, 0.49073509, 0.53147913, 0.55188455, 0.5620931 ,\n",
       "       0.78374573, 0.80435812, 0.81466443, 0.8660338 , 0.96907216,\n",
       "       1.        ])"
      ]
     },
     "execution_count": 84,
     "metadata": {},
     "output_type": "execute_result"
    }
   ],
   "source": [
    "distances"
   ]
  },
  {
   "cell_type": "code",
   "execution_count": 85,
   "id": "2e89e33e-355b-436a-b2cc-56e716857caf",
   "metadata": {},
   "outputs": [
    {
     "name": "stdout",
     "output_type": "stream",
     "text": [
      "best thresholds 0.5375899709233042\n"
     ]
    }
   ],
   "source": [
    "best_th = th[np.argmin(distances)]\n",
    "print(f'best thresholds', best_th)"
   ]
  },
  {
   "cell_type": "code",
   "execution_count": 86,
   "id": "b03547db-5957-45d4-96f6-b53fbc897862",
   "metadata": {},
   "outputs": [
    {
     "name": "stdout",
     "output_type": "stream",
     "text": [
      "accuracy 0.675\n"
     ]
    }
   ],
   "source": [
    "yhat_test = (yhat_test >= best_th).astype(int)\n",
    "\n",
    "acc = mt.accuracy_score(y_test, yhat_test)\n",
    "print(f'accuracy', acc)"
   ]
  },
  {
   "cell_type": "code",
   "execution_count": 87,
   "id": "8bb11b5a-5445-45d5-914f-007192873532",
   "metadata": {},
   "outputs": [
    {
     "data": {
      "text/plain": [
       "array([0.20274717, 0.        , 0.        , 0.06863601, 0.03965781,\n",
       "       0.        , 0.        , 0.68895901])"
      ]
     },
     "execution_count": 87,
     "metadata": {},
     "output_type": "execute_result"
    }
   ],
   "source": [
    "model.feature_importances_"
   ]
  },
  {
   "cell_type": "code",
   "execution_count": null,
   "id": "f72a1f2b-97d4-4392-a178-428324b568c7",
   "metadata": {},
   "outputs": [],
   "source": []
  },
  {
   "cell_type": "code",
   "execution_count": null,
   "id": "81732916-38de-411b-afe9-9c4aca1005cc",
   "metadata": {},
   "outputs": [],
   "source": []
  }
 ],
 "metadata": {
  "kernelspec": {
   "display_name": "Python 3 (ipykernel)",
   "language": "python",
   "name": "python3"
  },
  "language_info": {
   "codemirror_mode": {
    "name": "ipython",
    "version": 3
   },
   "file_extension": ".py",
   "mimetype": "text/x-python",
   "name": "python",
   "nbconvert_exporter": "python",
   "pygments_lexer": "ipython3",
   "version": "3.11.10"
  }
 },
 "nbformat": 4,
 "nbformat_minor": 5
}
